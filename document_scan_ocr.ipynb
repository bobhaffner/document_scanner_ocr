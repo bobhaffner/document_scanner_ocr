{
 "cells": [
  {
   "cell_type": "code",
   "execution_count": 1,
   "metadata": {
    "ExecuteTime": {
     "end_time": "2017-08-05T20:22:32.141764Z",
     "start_time": "2017-08-05T20:22:32.129343Z"
    },
    "collapsed": true
   },
   "outputs": [],
   "source": [
    "from PIL import Image\n",
    "import pytesseract"
   ]
  },
  {
   "cell_type": "code",
   "execution_count": 2,
   "metadata": {
    "ExecuteTime": {
     "end_time": "2017-08-05T20:22:37.729583Z",
     "start_time": "2017-08-05T20:22:33.599029Z"
    },
    "scrolled": true
   },
   "outputs": [
    {
     "name": "stdout",
     "output_type": "stream",
     "text": [
      "0—malra Pu-hlic P-nwer Diskin!\n",
      "\n",
      "For bill inquiries call the Omaha Ofﬁce\n",
      "(402) 536-4131. See back for\n"
     ]
    }
   ],
   "source": [
    "feb_elec_text = pytesseract.image_to_string(Image.open('images/feb_elec.jpg'))\n",
    "print(feb_elec_text[:100])"
   ]
  },
  {
   "cell_type": "markdown",
   "metadata": {},
   "source": [
    "## Attempt 1 - Common words"
   ]
  },
  {
   "cell_type": "code",
   "execution_count": 3,
   "metadata": {
    "ExecuteTime": {
     "end_time": "2017-08-05T20:22:45.682971Z",
     "start_time": "2017-08-05T20:22:45.677950Z"
    }
   },
   "outputs": [
    {
     "name": "stdout",
     "output_type": "stream",
     "text": [
      "['malra', 'pu', 'hlic', 'p', 'nwer', 'diskin', 'for', 'bill', 'inquiries', 'call', 'the', 'omaha', 'see', 'back', 'for', 'toll', 'free', 'number', 'page', 'of', 'account', 'number', 'due', 'date', 'total', 'amount', 'due', 'feb', 'customer', 'name', 'haffner', 'robert', 'm', 'date', 'february', 'billing', 'information', 'for', 'service', 'addressm', 'rate', 'billing', 'period', 'meter', 'meter', 'reading', 'usa', 'e', 'from', 'to']\n"
     ]
    }
   ],
   "source": [
    "import re\n",
    "feb_elec_text_list = re.findall(r'\\b[a-z]+\\b', feb_elec_text.lower())\n",
    "print(feb_elec_text_list[:50])"
   ]
  },
  {
   "cell_type": "code",
   "execution_count": 4,
   "metadata": {
    "ExecuteTime": {
     "end_time": "2017-08-05T20:22:50.884767Z",
     "start_time": "2017-08-05T20:22:50.077047Z"
    }
   },
   "outputs": [
    {
     "name": "stdout",
     "output_type": "stream",
     "text": [
      "['malra', 'pu', 'hlic', 'p', 'nwer', 'diskin', 'bill', 'inquiries', 'call', 'omaha']\n"
     ]
    }
   ],
   "source": [
    "from nltk.corpus import stopwords\n",
    "stop_words = set(stopwords.words('english'))\n",
    "\n",
    "words  = [i for i in feb_elec_text_list if i not in stop_words]\n",
    "print(words[:10])"
   ]
  },
  {
   "cell_type": "code",
   "execution_count": 5,
   "metadata": {
    "ExecuteTime": {
     "end_time": "2017-08-05T20:24:32.846694Z",
     "start_time": "2017-08-05T20:24:32.841769Z"
    }
   },
   "outputs": [
    {
     "name": "stdout",
     "output_type": "stream",
     "text": [
      "[('due', 4), ('date', 3), ('usage', 3)]\n"
     ]
    }
   ],
   "source": [
    "from collections import Counter\n",
    "\n",
    "word_count = Counter(words)\n",
    "print(word_count.most_common(3))"
   ]
  },
  {
   "cell_type": "code",
   "execution_count": 15,
   "metadata": {
    "ExecuteTime": {
     "end_time": "2017-08-05T21:18:03.051599Z",
     "start_time": "2017-08-05T21:18:03.041750Z"
    }
   },
   "outputs": [
    {
     "name": "stdout",
     "output_type": "stream",
     "text": [
      "2017_8_5_due_date_usage.jpg\n"
     ]
    }
   ],
   "source": [
    "words_for_name = '_'.join([w[0] for w in word_count.most_common(3)])\n",
    "\n",
    "def get_datestamp():\n",
    "    tdy = datetime.today()\n",
    "    return '{}_{}_{}'.format(tdy.year, tdy.month, tdy.day)\n",
    "\n",
    "new_file_name = '{}_{}.jpg'.format(get_datestamp(), words_for_name)\n",
    "print (new_file_name)"
   ]
  },
  {
   "cell_type": "markdown",
   "metadata": {},
   "source": [
    "## Attempt 2 - String comparison"
   ]
  },
  {
   "cell_type": "code",
   "execution_count": 9,
   "metadata": {
    "ExecuteTime": {
     "end_time": "2017-08-05T20:25:21.796828Z",
     "start_time": "2017-08-05T20:25:17.167623Z"
    }
   },
   "outputs": [
    {
     "name": "stdout",
     "output_type": "stream",
     "text": [
      "ifs?\n",
      "\n",
      "ﬂmaha Publi: Paws! Districl\n",
      "\n",
      "For bill inquiries can the Omaha Office\n",
      "(402) 536-4131 See back f\n"
     ]
    }
   ],
   "source": [
    "mar_elec_text = pytesseract.image_to_string(Image.open('images/mar_elec.jpg'))\n",
    "print(mar_elec_text[:100])"
   ]
  },
  {
   "cell_type": "code",
   "execution_count": 10,
   "metadata": {
    "ExecuteTime": {
     "end_time": "2017-08-05T20:25:26.211278Z",
     "start_time": "2017-08-05T20:25:26.199696Z"
    }
   },
   "outputs": [
    {
     "name": "stdout",
     "output_type": "stream",
     "text": [
      "85\n"
     ]
    }
   ],
   "source": [
    "from fuzzywuzzy import fuzz\n",
    "from fuzzywuzzy import process\n",
    "\n",
    "print(fuzz.ratio(feb_elec_text, mar_elec_text))"
   ]
  },
  {
   "cell_type": "code",
   "execution_count": 11,
   "metadata": {
    "ExecuteTime": {
     "end_time": "2017-08-05T20:25:36.400347Z",
     "start_time": "2017-08-05T20:25:29.294726Z"
    }
   },
   "outputs": [
    {
     "name": "stdout",
     "output_type": "stream",
     "text": [
      "Share the warmth and make a\n",
      "difference.\n",
      "\n",
      "Join us at the 10m annual Heat the\n",
      "Streets Run and Walk for\n"
     ]
    }
   ],
   "source": [
    "feb_gas_water_text = pytesseract.image_to_string(Image.open('images/feb_gas_water.jpg'))\n",
    "print(feb_gas_water_text[:100])"
   ]
  },
  {
   "cell_type": "code",
   "execution_count": 16,
   "metadata": {
    "ExecuteTime": {
     "end_time": "2017-08-05T21:31:32.058233Z",
     "start_time": "2017-08-05T21:31:32.048643Z"
    }
   },
   "outputs": [
    {
     "name": "stdout",
     "output_type": "stream",
     "text": [
      "32\n"
     ]
    }
   ],
   "source": [
    "print(fuzz.ratio(feb_elec_text, feb_gas_water_text))"
   ]
  },
  {
   "cell_type": "code",
   "execution_count": 13,
   "metadata": {
    "ExecuteTime": {
     "end_time": "2017-08-05T20:25:57.718867Z",
     "start_time": "2017-08-05T20:25:55.918568Z"
    }
   },
   "outputs": [
    {
     "name": "stdout",
     "output_type": "stream",
     "text": [
      "electric_bill\n"
     ]
    }
   ],
   "source": [
    "choices = {'electric_bill' : feb_elec_text, 'water_gas_bill' : feb_gas_water_text}\n",
    "\n",
    "best_match = process.extractOne(mar_elec_text, choices=choices, score_cutoff=75)\n",
    "if best_match:\n",
    "    print(best_match[2])"
   ]
  },
  {
   "cell_type": "code",
   "execution_count": 14,
   "metadata": {
    "ExecuteTime": {
     "end_time": "2017-08-05T20:26:08.307229Z",
     "start_time": "2017-08-05T20:26:08.302633Z"
    }
   },
   "outputs": [
    {
     "name": "stdout",
     "output_type": "stream",
     "text": [
      "2017_8_5_electric_bill.jpg\n"
     ]
    }
   ],
   "source": [
    "new_file_name = '{}_{}.jpg'.format(get_datestamp(), best_match[2])\n",
    "print (new_file_name)"
   ]
  },
  {
   "cell_type": "code",
   "execution_count": null,
   "metadata": {
    "collapsed": true
   },
   "outputs": [],
   "source": []
  }
 ],
 "metadata": {
  "kernelspec": {
   "display_name": "Python 3",
   "language": "python",
   "name": "python3"
  },
  "language_info": {
   "codemirror_mode": {
    "name": "ipython",
    "version": 3
   },
   "file_extension": ".py",
   "mimetype": "text/x-python",
   "name": "python",
   "nbconvert_exporter": "python",
   "pygments_lexer": "ipython3",
   "version": "3.5.3"
  }
 },
 "nbformat": 4,
 "nbformat_minor": 2
}
